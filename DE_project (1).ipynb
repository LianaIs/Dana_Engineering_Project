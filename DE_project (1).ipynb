{
 "cells": [
  {
   "cell_type": "code",
   "execution_count": 1,
   "metadata": {},
   "outputs": [],
   "source": [
    "# pip install pyspark"
   ]
  },
  {
   "cell_type": "code",
   "execution_count": 2,
   "metadata": {},
   "outputs": [],
   "source": [
    "import numpy as np\n",
    "import pandas as pd\n",
    "import matplotlib.pyplot as plt"
   ]
  },
  {
   "cell_type": "code",
   "execution_count": 3,
   "metadata": {},
   "outputs": [],
   "source": [
    "from pyspark.context import SparkContext\n",
    "import pyspark\n",
    "from pyspark.sql.session import SparkSession\n",
    "from pyspark.ml.feature import VectorAssembler\n",
    "from pyspark.ml.feature import StringIndexer\n",
    "from pyspark.ml.evaluation import RegressionEvaluator\n",
    "from pyspark.ml.feature import MinMaxScaler\n",
    "from pyspark.ml.classification import DecisionTreeClassifier\n",
    "from pyspark.ml.tuning import CrossValidator, ParamGridBuilder\n",
    "from pyspark.ml.evaluation import BinaryClassificationEvaluator\n",
    "from pyspark.mllib.evaluation import BinaryClassificationMetrics\n",
    "from pyspark.ml.evaluation import MulticlassClassificationEvaluator\n",
    "from pyspark.ml.evaluation import Evaluator"
   ]
  },
  {
   "cell_type": "code",
   "execution_count": 4,
   "metadata": {},
   "outputs": [],
   "source": [
    "from pyspark.sql import SparkSession\n",
    "import pyspark.sql.functions as sqlf\n",
    "from pyspark.sql.functions import lit, desc, col, size, array_contains\\\n",
    ", isnan, udf, hour, array_min, array_max, countDistinct"
   ]
  },
  {
   "cell_type": "code",
   "execution_count": 5,
   "metadata": {},
   "outputs": [],
   "source": [
    "spark = SparkSession.builder \\\n",
    "                    .master('local[*]') \\\n",
    "                    .appName('first_spark_application') \\\n",
    "                    .getOrCreate()"
   ]
  },
  {
   "cell_type": "code",
   "execution_count": 6,
   "metadata": {},
   "outputs": [],
   "source": [
    "df = spark.read.csv(\"C:/Users/ASUS/Downloads/application_data.csv\", header=True, inferSchema=True)"
   ]
  },
  {
   "cell_type": "code",
   "execution_count": 7,
   "metadata": {},
   "outputs": [
    {
     "data": {
      "text/plain": [
       "DataFrame[SK_ID_CURR: int, TARGET: int, NAME_CONTRACT_TYPE: string, CODE_GENDER: string, FLAG_OWN_CAR: string, FLAG_OWN_REALTY: string, CNT_CHILDREN: int, AMT_INCOME_TOTAL: double, AMT_CREDIT: double, AMT_ANNUITY: double, AMT_GOODS_PRICE: double, NAME_TYPE_SUITE: string, NAME_INCOME_TYPE: string, NAME_EDUCATION_TYPE: string, NAME_FAMILY_STATUS: string, NAME_HOUSING_TYPE: string, REGION_POPULATION_RELATIVE: double, DAYS_BIRTH: int, DAYS_EMPLOYED: int, DAYS_REGISTRATION: double, DAYS_ID_PUBLISH: int, OWN_CAR_AGE: double, FLAG_MOBIL: int, FLAG_EMP_PHONE: int, FLAG_WORK_PHONE: int, FLAG_CONT_MOBILE: int, FLAG_PHONE: int, FLAG_EMAIL: int, OCCUPATION_TYPE: string, CNT_FAM_MEMBERS: double, REGION_RATING_CLIENT: int, REGION_RATING_CLIENT_W_CITY: int, WEEKDAY_APPR_PROCESS_START: string, HOUR_APPR_PROCESS_START: int, REG_REGION_NOT_LIVE_REGION: int, REG_REGION_NOT_WORK_REGION: int, LIVE_REGION_NOT_WORK_REGION: int, REG_CITY_NOT_LIVE_CITY: int, REG_CITY_NOT_WORK_CITY: int, LIVE_CITY_NOT_WORK_CITY: int, ORGANIZATION_TYPE: string, EXT_SOURCE_1: double, EXT_SOURCE_2: double, EXT_SOURCE_3: double, APARTMENTS_AVG: double, BASEMENTAREA_AVG: double, YEARS_BEGINEXPLUATATION_AVG: double, YEARS_BUILD_AVG: double, COMMONAREA_AVG: double, ELEVATORS_AVG: double, ENTRANCES_AVG: double, FLOORSMAX_AVG: double, FLOORSMIN_AVG: double, LANDAREA_AVG: double, LIVINGAPARTMENTS_AVG: double, LIVINGAREA_AVG: double, NONLIVINGAPARTMENTS_AVG: double, NONLIVINGAREA_AVG: double, APARTMENTS_MODE: double, BASEMENTAREA_MODE: double, YEARS_BEGINEXPLUATATION_MODE: double, YEARS_BUILD_MODE: double, COMMONAREA_MODE: double, ELEVATORS_MODE: double, ENTRANCES_MODE: double, FLOORSMAX_MODE: double, FLOORSMIN_MODE: double, LANDAREA_MODE: double, LIVINGAPARTMENTS_MODE: double, LIVINGAREA_MODE: double, NONLIVINGAPARTMENTS_MODE: double, NONLIVINGAREA_MODE: double, APARTMENTS_MEDI: double, BASEMENTAREA_MEDI: double, YEARS_BEGINEXPLUATATION_MEDI: double, YEARS_BUILD_MEDI: double, COMMONAREA_MEDI: double, ELEVATORS_MEDI: double, ENTRANCES_MEDI: double, FLOORSMAX_MEDI: double, FLOORSMIN_MEDI: double, LANDAREA_MEDI: double, LIVINGAPARTMENTS_MEDI: double, LIVINGAREA_MEDI: double, NONLIVINGAPARTMENTS_MEDI: double, NONLIVINGAREA_MEDI: double, FONDKAPREMONT_MODE: string, HOUSETYPE_MODE: string, TOTALAREA_MODE: double, WALLSMATERIAL_MODE: string, EMERGENCYSTATE_MODE: string, OBS_30_CNT_SOCIAL_CIRCLE: double, DEF_30_CNT_SOCIAL_CIRCLE: double, OBS_60_CNT_SOCIAL_CIRCLE: double, DEF_60_CNT_SOCIAL_CIRCLE: double, DAYS_LAST_PHONE_CHANGE: double, FLAG_DOCUMENT_2: int, FLAG_DOCUMENT_3: int, FLAG_DOCUMENT_4: int, FLAG_DOCUMENT_5: int, FLAG_DOCUMENT_6: int, FLAG_DOCUMENT_7: int, FLAG_DOCUMENT_8: int, FLAG_DOCUMENT_9: int, FLAG_DOCUMENT_10: int, FLAG_DOCUMENT_11: int, FLAG_DOCUMENT_12: int, FLAG_DOCUMENT_13: int, FLAG_DOCUMENT_14: int, FLAG_DOCUMENT_15: int, FLAG_DOCUMENT_16: int, FLAG_DOCUMENT_17: int, FLAG_DOCUMENT_18: int, FLAG_DOCUMENT_19: int, FLAG_DOCUMENT_20: int, FLAG_DOCUMENT_21: int, AMT_REQ_CREDIT_BUREAU_HOUR: double, AMT_REQ_CREDIT_BUREAU_DAY: double, AMT_REQ_CREDIT_BUREAU_WEEK: double, AMT_REQ_CREDIT_BUREAU_MON: double, AMT_REQ_CREDIT_BUREAU_QRT: double, AMT_REQ_CREDIT_BUREAU_YEAR: double]"
      ]
     },
     "execution_count": 7,
     "metadata": {},
     "output_type": "execute_result"
    }
   ],
   "source": [
    "df"
   ]
  },
  {
   "cell_type": "code",
   "execution_count": 8,
   "metadata": {},
   "outputs": [
    {
     "name": "stdout",
     "output_type": "stream",
     "text": [
      "root\n",
      " |-- SK_ID_CURR: integer (nullable = true)\n",
      " |-- TARGET: integer (nullable = true)\n",
      " |-- NAME_CONTRACT_TYPE: string (nullable = true)\n",
      " |-- CODE_GENDER: string (nullable = true)\n",
      " |-- FLAG_OWN_CAR: string (nullable = true)\n",
      " |-- FLAG_OWN_REALTY: string (nullable = true)\n",
      " |-- CNT_CHILDREN: integer (nullable = true)\n",
      " |-- AMT_INCOME_TOTAL: double (nullable = true)\n",
      " |-- AMT_CREDIT: double (nullable = true)\n",
      " |-- AMT_ANNUITY: double (nullable = true)\n",
      " |-- AMT_GOODS_PRICE: double (nullable = true)\n",
      " |-- NAME_TYPE_SUITE: string (nullable = true)\n",
      " |-- NAME_INCOME_TYPE: string (nullable = true)\n",
      " |-- NAME_EDUCATION_TYPE: string (nullable = true)\n",
      " |-- NAME_FAMILY_STATUS: string (nullable = true)\n",
      " |-- NAME_HOUSING_TYPE: string (nullable = true)\n",
      " |-- REGION_POPULATION_RELATIVE: double (nullable = true)\n",
      " |-- DAYS_BIRTH: integer (nullable = true)\n",
      " |-- DAYS_EMPLOYED: integer (nullable = true)\n",
      " |-- DAYS_REGISTRATION: double (nullable = true)\n",
      " |-- DAYS_ID_PUBLISH: integer (nullable = true)\n",
      " |-- OWN_CAR_AGE: double (nullable = true)\n",
      " |-- FLAG_MOBIL: integer (nullable = true)\n",
      " |-- FLAG_EMP_PHONE: integer (nullable = true)\n",
      " |-- FLAG_WORK_PHONE: integer (nullable = true)\n",
      " |-- FLAG_CONT_MOBILE: integer (nullable = true)\n",
      " |-- FLAG_PHONE: integer (nullable = true)\n",
      " |-- FLAG_EMAIL: integer (nullable = true)\n",
      " |-- OCCUPATION_TYPE: string (nullable = true)\n",
      " |-- CNT_FAM_MEMBERS: double (nullable = true)\n",
      " |-- REGION_RATING_CLIENT: integer (nullable = true)\n",
      " |-- REGION_RATING_CLIENT_W_CITY: integer (nullable = true)\n",
      " |-- WEEKDAY_APPR_PROCESS_START: string (nullable = true)\n",
      " |-- HOUR_APPR_PROCESS_START: integer (nullable = true)\n",
      " |-- REG_REGION_NOT_LIVE_REGION: integer (nullable = true)\n",
      " |-- REG_REGION_NOT_WORK_REGION: integer (nullable = true)\n",
      " |-- LIVE_REGION_NOT_WORK_REGION: integer (nullable = true)\n",
      " |-- REG_CITY_NOT_LIVE_CITY: integer (nullable = true)\n",
      " |-- REG_CITY_NOT_WORK_CITY: integer (nullable = true)\n",
      " |-- LIVE_CITY_NOT_WORK_CITY: integer (nullable = true)\n",
      " |-- ORGANIZATION_TYPE: string (nullable = true)\n",
      " |-- EXT_SOURCE_1: double (nullable = true)\n",
      " |-- EXT_SOURCE_2: double (nullable = true)\n",
      " |-- EXT_SOURCE_3: double (nullable = true)\n",
      " |-- APARTMENTS_AVG: double (nullable = true)\n",
      " |-- BASEMENTAREA_AVG: double (nullable = true)\n",
      " |-- YEARS_BEGINEXPLUATATION_AVG: double (nullable = true)\n",
      " |-- YEARS_BUILD_AVG: double (nullable = true)\n",
      " |-- COMMONAREA_AVG: double (nullable = true)\n",
      " |-- ELEVATORS_AVG: double (nullable = true)\n",
      " |-- ENTRANCES_AVG: double (nullable = true)\n",
      " |-- FLOORSMAX_AVG: double (nullable = true)\n",
      " |-- FLOORSMIN_AVG: double (nullable = true)\n",
      " |-- LANDAREA_AVG: double (nullable = true)\n",
      " |-- LIVINGAPARTMENTS_AVG: double (nullable = true)\n",
      " |-- LIVINGAREA_AVG: double (nullable = true)\n",
      " |-- NONLIVINGAPARTMENTS_AVG: double (nullable = true)\n",
      " |-- NONLIVINGAREA_AVG: double (nullable = true)\n",
      " |-- APARTMENTS_MODE: double (nullable = true)\n",
      " |-- BASEMENTAREA_MODE: double (nullable = true)\n",
      " |-- YEARS_BEGINEXPLUATATION_MODE: double (nullable = true)\n",
      " |-- YEARS_BUILD_MODE: double (nullable = true)\n",
      " |-- COMMONAREA_MODE: double (nullable = true)\n",
      " |-- ELEVATORS_MODE: double (nullable = true)\n",
      " |-- ENTRANCES_MODE: double (nullable = true)\n",
      " |-- FLOORSMAX_MODE: double (nullable = true)\n",
      " |-- FLOORSMIN_MODE: double (nullable = true)\n",
      " |-- LANDAREA_MODE: double (nullable = true)\n",
      " |-- LIVINGAPARTMENTS_MODE: double (nullable = true)\n",
      " |-- LIVINGAREA_MODE: double (nullable = true)\n",
      " |-- NONLIVINGAPARTMENTS_MODE: double (nullable = true)\n",
      " |-- NONLIVINGAREA_MODE: double (nullable = true)\n",
      " |-- APARTMENTS_MEDI: double (nullable = true)\n",
      " |-- BASEMENTAREA_MEDI: double (nullable = true)\n",
      " |-- YEARS_BEGINEXPLUATATION_MEDI: double (nullable = true)\n",
      " |-- YEARS_BUILD_MEDI: double (nullable = true)\n",
      " |-- COMMONAREA_MEDI: double (nullable = true)\n",
      " |-- ELEVATORS_MEDI: double (nullable = true)\n",
      " |-- ENTRANCES_MEDI: double (nullable = true)\n",
      " |-- FLOORSMAX_MEDI: double (nullable = true)\n",
      " |-- FLOORSMIN_MEDI: double (nullable = true)\n",
      " |-- LANDAREA_MEDI: double (nullable = true)\n",
      " |-- LIVINGAPARTMENTS_MEDI: double (nullable = true)\n",
      " |-- LIVINGAREA_MEDI: double (nullable = true)\n",
      " |-- NONLIVINGAPARTMENTS_MEDI: double (nullable = true)\n",
      " |-- NONLIVINGAREA_MEDI: double (nullable = true)\n",
      " |-- FONDKAPREMONT_MODE: string (nullable = true)\n",
      " |-- HOUSETYPE_MODE: string (nullable = true)\n",
      " |-- TOTALAREA_MODE: double (nullable = true)\n",
      " |-- WALLSMATERIAL_MODE: string (nullable = true)\n",
      " |-- EMERGENCYSTATE_MODE: string (nullable = true)\n",
      " |-- OBS_30_CNT_SOCIAL_CIRCLE: double (nullable = true)\n",
      " |-- DEF_30_CNT_SOCIAL_CIRCLE: double (nullable = true)\n",
      " |-- OBS_60_CNT_SOCIAL_CIRCLE: double (nullable = true)\n",
      " |-- DEF_60_CNT_SOCIAL_CIRCLE: double (nullable = true)\n",
      " |-- DAYS_LAST_PHONE_CHANGE: double (nullable = true)\n",
      " |-- FLAG_DOCUMENT_2: integer (nullable = true)\n",
      " |-- FLAG_DOCUMENT_3: integer (nullable = true)\n",
      " |-- FLAG_DOCUMENT_4: integer (nullable = true)\n",
      " |-- FLAG_DOCUMENT_5: integer (nullable = true)\n",
      " |-- FLAG_DOCUMENT_6: integer (nullable = true)\n",
      " |-- FLAG_DOCUMENT_7: integer (nullable = true)\n",
      " |-- FLAG_DOCUMENT_8: integer (nullable = true)\n",
      " |-- FLAG_DOCUMENT_9: integer (nullable = true)\n",
      " |-- FLAG_DOCUMENT_10: integer (nullable = true)\n",
      " |-- FLAG_DOCUMENT_11: integer (nullable = true)\n",
      " |-- FLAG_DOCUMENT_12: integer (nullable = true)\n",
      " |-- FLAG_DOCUMENT_13: integer (nullable = true)\n",
      " |-- FLAG_DOCUMENT_14: integer (nullable = true)\n",
      " |-- FLAG_DOCUMENT_15: integer (nullable = true)\n",
      " |-- FLAG_DOCUMENT_16: integer (nullable = true)\n",
      " |-- FLAG_DOCUMENT_17: integer (nullable = true)\n",
      " |-- FLAG_DOCUMENT_18: integer (nullable = true)\n",
      " |-- FLAG_DOCUMENT_19: integer (nullable = true)\n",
      " |-- FLAG_DOCUMENT_20: integer (nullable = true)\n",
      " |-- FLAG_DOCUMENT_21: integer (nullable = true)\n",
      " |-- AMT_REQ_CREDIT_BUREAU_HOUR: double (nullable = true)\n",
      " |-- AMT_REQ_CREDIT_BUREAU_DAY: double (nullable = true)\n",
      " |-- AMT_REQ_CREDIT_BUREAU_WEEK: double (nullable = true)\n",
      " |-- AMT_REQ_CREDIT_BUREAU_MON: double (nullable = true)\n",
      " |-- AMT_REQ_CREDIT_BUREAU_QRT: double (nullable = true)\n",
      " |-- AMT_REQ_CREDIT_BUREAU_YEAR: double (nullable = true)\n",
      "\n"
     ]
    }
   ],
   "source": [
    "df.printSchema()"
   ]
  },
  {
   "cell_type": "code",
   "execution_count": 9,
   "metadata": {},
   "outputs": [
    {
     "name": "stdout",
     "output_type": "stream",
     "text": [
      "+----------+------+------------------+-----------+------------+---------------+------------+----------------+----------+-----------+---------------+---------------+--------------------+-----------------------------+--------------------+-----------------+--------------------------+----------+-------------+-----------------+---------------+-----------+----------+--------------+---------------+----------------+----------+----------+---------------+---------------+--------------------+---------------------------+--------------------------+-----------------------+--------------------------+--------------------------+---------------------------+----------------------+----------------------+-----------------------+----------------------+-------------------+-------------------+-------------------+--------------+----------------+---------------------------+------------------+--------------+-------------+-------------+-------------+-------------+------------+--------------------+--------------+-----------------------+-----------------+---------------+-----------------+----------------------------+----------------+---------------+--------------+--------------+--------------+--------------+-------------+---------------------+---------------+------------------------+------------------+---------------+-----------------+----------------------------+------------------+---------------+--------------+--------------+--------------+--------------+-------------+---------------------+---------------+------------------------+------------------+------------------+--------------+--------------+------------------+-------------------+------------------------+------------------------+------------------------+------------------------+----------------------+---------------+---------------+---------------+---------------+---------------+---------------+---------------+---------------+----------------+----------------+----------------+----------------+----------------+----------------+----------------+----------------+----------------+----------------+----------------+----------------+--------------------------+-------------------------+--------------------------+-------------------------+-------------------------+--------------------------+\n",
      "|SK_ID_CURR|TARGET|NAME_CONTRACT_TYPE|CODE_GENDER|FLAG_OWN_CAR|FLAG_OWN_REALTY|CNT_CHILDREN|AMT_INCOME_TOTAL|AMT_CREDIT|AMT_ANNUITY|AMT_GOODS_PRICE|NAME_TYPE_SUITE|NAME_INCOME_TYPE    |NAME_EDUCATION_TYPE          |NAME_FAMILY_STATUS  |NAME_HOUSING_TYPE|REGION_POPULATION_RELATIVE|DAYS_BIRTH|DAYS_EMPLOYED|DAYS_REGISTRATION|DAYS_ID_PUBLISH|OWN_CAR_AGE|FLAG_MOBIL|FLAG_EMP_PHONE|FLAG_WORK_PHONE|FLAG_CONT_MOBILE|FLAG_PHONE|FLAG_EMAIL|OCCUPATION_TYPE|CNT_FAM_MEMBERS|REGION_RATING_CLIENT|REGION_RATING_CLIENT_W_CITY|WEEKDAY_APPR_PROCESS_START|HOUR_APPR_PROCESS_START|REG_REGION_NOT_LIVE_REGION|REG_REGION_NOT_WORK_REGION|LIVE_REGION_NOT_WORK_REGION|REG_CITY_NOT_LIVE_CITY|REG_CITY_NOT_WORK_CITY|LIVE_CITY_NOT_WORK_CITY|ORGANIZATION_TYPE     |EXT_SOURCE_1       |EXT_SOURCE_2       |EXT_SOURCE_3       |APARTMENTS_AVG|BASEMENTAREA_AVG|YEARS_BEGINEXPLUATATION_AVG|YEARS_BUILD_AVG   |COMMONAREA_AVG|ELEVATORS_AVG|ENTRANCES_AVG|FLOORSMAX_AVG|FLOORSMIN_AVG|LANDAREA_AVG|LIVINGAPARTMENTS_AVG|LIVINGAREA_AVG|NONLIVINGAPARTMENTS_AVG|NONLIVINGAREA_AVG|APARTMENTS_MODE|BASEMENTAREA_MODE|YEARS_BEGINEXPLUATATION_MODE|YEARS_BUILD_MODE|COMMONAREA_MODE|ELEVATORS_MODE|ENTRANCES_MODE|FLOORSMAX_MODE|FLOORSMIN_MODE|LANDAREA_MODE|LIVINGAPARTMENTS_MODE|LIVINGAREA_MODE|NONLIVINGAPARTMENTS_MODE|NONLIVINGAREA_MODE|APARTMENTS_MEDI|BASEMENTAREA_MEDI|YEARS_BEGINEXPLUATATION_MEDI|YEARS_BUILD_MEDI  |COMMONAREA_MEDI|ELEVATORS_MEDI|ENTRANCES_MEDI|FLOORSMAX_MEDI|FLOORSMIN_MEDI|LANDAREA_MEDI|LIVINGAPARTMENTS_MEDI|LIVINGAREA_MEDI|NONLIVINGAPARTMENTS_MEDI|NONLIVINGAREA_MEDI|FONDKAPREMONT_MODE|HOUSETYPE_MODE|TOTALAREA_MODE|WALLSMATERIAL_MODE|EMERGENCYSTATE_MODE|OBS_30_CNT_SOCIAL_CIRCLE|DEF_30_CNT_SOCIAL_CIRCLE|OBS_60_CNT_SOCIAL_CIRCLE|DEF_60_CNT_SOCIAL_CIRCLE|DAYS_LAST_PHONE_CHANGE|FLAG_DOCUMENT_2|FLAG_DOCUMENT_3|FLAG_DOCUMENT_4|FLAG_DOCUMENT_5|FLAG_DOCUMENT_6|FLAG_DOCUMENT_7|FLAG_DOCUMENT_8|FLAG_DOCUMENT_9|FLAG_DOCUMENT_10|FLAG_DOCUMENT_11|FLAG_DOCUMENT_12|FLAG_DOCUMENT_13|FLAG_DOCUMENT_14|FLAG_DOCUMENT_15|FLAG_DOCUMENT_16|FLAG_DOCUMENT_17|FLAG_DOCUMENT_18|FLAG_DOCUMENT_19|FLAG_DOCUMENT_20|FLAG_DOCUMENT_21|AMT_REQ_CREDIT_BUREAU_HOUR|AMT_REQ_CREDIT_BUREAU_DAY|AMT_REQ_CREDIT_BUREAU_WEEK|AMT_REQ_CREDIT_BUREAU_MON|AMT_REQ_CREDIT_BUREAU_QRT|AMT_REQ_CREDIT_BUREAU_YEAR|\n",
      "+----------+------+------------------+-----------+------------+---------------+------------+----------------+----------+-----------+---------------+---------------+--------------------+-----------------------------+--------------------+-----------------+--------------------------+----------+-------------+-----------------+---------------+-----------+----------+--------------+---------------+----------------+----------+----------+---------------+---------------+--------------------+---------------------------+--------------------------+-----------------------+--------------------------+--------------------------+---------------------------+----------------------+----------------------+-----------------------+----------------------+-------------------+-------------------+-------------------+--------------+----------------+---------------------------+------------------+--------------+-------------+-------------+-------------+-------------+------------+--------------------+--------------+-----------------------+-----------------+---------------+-----------------+----------------------------+----------------+---------------+--------------+--------------+--------------+--------------+-------------+---------------------+---------------+------------------------+------------------+---------------+-----------------+----------------------------+------------------+---------------+--------------+--------------+--------------+--------------+-------------+---------------------+---------------+------------------------+------------------+------------------+--------------+--------------+------------------+-------------------+------------------------+------------------------+------------------------+------------------------+----------------------+---------------+---------------+---------------+---------------+---------------+---------------+---------------+---------------+----------------+----------------+----------------+----------------+----------------+----------------+----------------+----------------+----------------+----------------+----------------+----------------+--------------------------+-------------------------+--------------------------+-------------------------+-------------------------+--------------------------+\n",
      "|100002    |1     |Cash loans        |M          |N           |Y              |0           |202500.0        |406597.5  |24700.5    |351000.0       |Unaccompanied  |Working             |Secondary / secondary special|Single / not married|House / apartment|0.018801                  |-9461     |-637         |-3648.0          |-2120          |null       |1         |1             |0              |1               |1         |0         |Laborers       |1.0            |2                   |2                          |WEDNESDAY                 |10                     |0                         |0                         |0                          |0                     |0                     |0                      |Business Entity Type 3|0.08303696739132256|0.2629485927471776 |0.13937578009978951|0.0247        |0.0369          |0.9722                     |0.6192            |0.0143        |0.0          |0.069        |0.0833       |0.125        |0.0369      |0.0202              |0.019         |0.0                    |0.0              |0.0252         |0.0383           |0.9722                      |0.6341          |0.0144         |0.0           |0.069         |0.0833        |0.125         |0.0377       |0.022                |0.0198         |0.0                     |0.0               |0.025          |0.0369           |0.9722                      |0.6243            |0.0144         |0.0           |0.069         |0.0833        |0.125         |0.0375       |0.0205               |0.0193         |0.0                     |0.0               |reg oper account  |block of flats|0.0149        |Stone, brick      |No                 |2.0                     |2.0                     |2.0                     |2.0                     |-1134.0               |0              |1              |0              |0              |0              |0              |0              |0              |0               |0               |0               |0               |0               |0               |0               |0               |0               |0               |0               |0               |0.0                       |0.0                      |0.0                       |0.0                      |0.0                      |1.0                       |\n",
      "|100003    |0     |Cash loans        |F          |N           |N              |0           |270000.0        |1293502.5 |35698.5    |1129500.0      |Family         |State servant       |Higher education             |Married             |House / apartment|0.003540999999999999      |-16765    |-1188        |-1186.0          |-291           |null       |1         |1             |0              |1               |1         |0         |Core staff     |2.0            |1                   |1                          |MONDAY                    |11                     |0                         |0                         |0                          |0                     |0                     |0                      |School                |0.3112673113812225 |0.6222457752555098 |null               |0.0959        |0.0529          |0.9851                     |0.7959999999999999|0.0605        |0.08         |0.0345       |0.2917       |0.3333       |0.013       |0.0773              |0.0549        |0.0039                 |0.0098           |0.0924         |0.0538           |0.9851                      |0.804           |0.0497         |0.0806        |0.0345        |0.2917        |0.3333        |0.0128       |0.079                |0.0554         |0.0                     |0.0               |0.0968         |0.0529           |0.9851                      |0.7987            |0.0608         |0.08          |0.0345        |0.2917        |0.3333        |0.0132       |0.0787               |0.0558         |0.0039                  |0.01              |reg oper account  |block of flats|0.0714        |Block             |No                 |1.0                     |0.0                     |1.0                     |0.0                     |-828.0                |0              |1              |0              |0              |0              |0              |0              |0              |0               |0               |0               |0               |0               |0               |0               |0               |0               |0               |0               |0               |0.0                       |0.0                      |0.0                       |0.0                      |0.0                      |0.0                       |\n",
      "|100004    |0     |Revolving loans   |M          |Y           |Y              |0           |67500.0         |135000.0  |6750.0     |135000.0       |Unaccompanied  |Working             |Secondary / secondary special|Single / not married|House / apartment|0.010032                  |-19046    |-225         |-4260.0          |-2531          |26.0       |1         |1             |1              |1               |1         |0         |Laborers       |1.0            |2                   |2                          |MONDAY                    |9                      |0                         |0                         |0                          |0                     |0                     |0                      |Government            |null               |0.5559120833904428 |0.7295666907060153 |null          |null            |null                       |null              |null          |null         |null         |null         |null         |null        |null                |null          |null                   |null             |null           |null             |null                        |null            |null           |null          |null          |null          |null          |null         |null                 |null           |null                    |null              |null           |null             |null                        |null              |null           |null          |null          |null          |null          |null         |null                 |null           |null                    |null              |null              |null          |null          |null              |null               |0.0                     |0.0                     |0.0                     |0.0                     |-815.0                |0              |0              |0              |0              |0              |0              |0              |0              |0               |0               |0               |0               |0               |0               |0               |0               |0               |0               |0               |0               |0.0                       |0.0                      |0.0                       |0.0                      |0.0                      |0.0                       |\n",
      "|100006    |0     |Cash loans        |F          |N           |Y              |0           |135000.0        |312682.5  |29686.5    |297000.0       |Unaccompanied  |Working             |Secondary / secondary special|Civil marriage      |House / apartment|0.008019                  |-19005    |-3039        |-9833.0          |-2437          |null       |1         |1             |0              |1               |0         |0         |Laborers       |2.0            |2                   |2                          |WEDNESDAY                 |17                     |0                         |0                         |0                          |0                     |0                     |0                      |Business Entity Type 3|null               |0.6504416904014653 |null               |null          |null            |null                       |null              |null          |null         |null         |null         |null         |null        |null                |null          |null                   |null             |null           |null             |null                        |null            |null           |null          |null          |null          |null          |null         |null                 |null           |null                    |null              |null           |null             |null                        |null              |null           |null          |null          |null          |null          |null         |null                 |null           |null                    |null              |null              |null          |null          |null              |null               |2.0                     |0.0                     |2.0                     |0.0                     |-617.0                |0              |1              |0              |0              |0              |0              |0              |0              |0               |0               |0               |0               |0               |0               |0               |0               |0               |0               |0               |0               |null                      |null                     |null                      |null                     |null                     |null                      |\n",
      "|100007    |0     |Cash loans        |M          |N           |Y              |0           |121500.0        |513000.0  |21865.5    |513000.0       |Unaccompanied  |Working             |Secondary / secondary special|Single / not married|House / apartment|0.028663                  |-19932    |-3038        |-4311.0          |-3458          |null       |1         |1             |0              |1               |0         |0         |Core staff     |1.0            |2                   |2                          |THURSDAY                  |11                     |0                         |0                         |0                          |0                     |1                     |1                      |Religion              |null               |0.3227382869704046 |null               |null          |null            |null                       |null              |null          |null         |null         |null         |null         |null        |null                |null          |null                   |null             |null           |null             |null                        |null            |null           |null          |null          |null          |null          |null         |null                 |null           |null                    |null              |null           |null             |null                        |null              |null           |null          |null          |null          |null          |null         |null                 |null           |null                    |null              |null              |null          |null          |null              |null               |0.0                     |0.0                     |0.0                     |0.0                     |-1106.0               |0              |0              |0              |0              |0              |0              |1              |0              |0               |0               |0               |0               |0               |0               |0               |0               |0               |0               |0               |0               |0.0                       |0.0                      |0.0                       |0.0                      |0.0                      |0.0                       |\n",
      "|100008    |0     |Cash loans        |M          |N           |Y              |0           |99000.0         |490495.5  |27517.5    |454500.0       |Spouse, partner|State servant       |Secondary / secondary special|Married             |House / apartment|0.035792000000000004      |-16941    |-1588        |-4970.0          |-477           |null       |1         |1             |1              |1               |1         |0         |Laborers       |2.0            |2                   |2                          |WEDNESDAY                 |16                     |0                         |0                         |0                          |0                     |0                     |0                      |Other                 |null               |0.3542247319929012 |0.6212263380626669 |null          |null            |null                       |null              |null          |null         |null         |null         |null         |null        |null                |null          |null                   |null             |null           |null             |null                        |null            |null           |null          |null          |null          |null          |null         |null                 |null           |null                    |null              |null           |null             |null                        |null              |null           |null          |null          |null          |null          |null         |null                 |null           |null                    |null              |null              |null          |null          |null              |null               |0.0                     |0.0                     |0.0                     |0.0                     |-2536.0               |0              |1              |0              |0              |0              |0              |0              |0              |0               |0               |0               |0               |0               |0               |0               |0               |0               |0               |0               |0               |0.0                       |0.0                      |0.0                       |0.0                      |1.0                      |1.0                       |\n",
      "|100009    |0     |Cash loans        |F          |Y           |Y              |1           |171000.0        |1560726.0 |41301.0    |1395000.0      |Unaccompanied  |Commercial associate|Higher education             |Married             |House / apartment|0.035792000000000004      |-13778    |-3130        |-1213.0          |-619           |17.0       |1         |1             |0              |1               |1         |0         |Accountants    |3.0            |2                   |2                          |SUNDAY                    |16                     |0                         |0                         |0                          |0                     |0                     |0                      |Business Entity Type 3|0.7747614130547695 |0.7239998516953141 |0.4920600938649263 |null          |null            |null                       |null              |null          |null         |null         |null         |null         |null        |null                |null          |null                   |null             |null           |null             |null                        |null            |null           |null          |null          |null          |null          |null         |null                 |null           |null                    |null              |null           |null             |null                        |null              |null           |null          |null          |null          |null          |null         |null                 |null           |null                    |null              |null              |null          |null          |null              |null               |1.0                     |0.0                     |1.0                     |0.0                     |-1562.0               |0              |0              |0              |0              |0              |0              |1              |0              |0               |0               |0               |0               |1               |0               |0               |0               |0               |0               |0               |0               |0.0                       |0.0                      |0.0                       |1.0                      |1.0                      |2.0                       |\n",
      "|100010    |0     |Cash loans        |M          |Y           |Y              |0           |360000.0        |1530000.0 |42075.0    |1530000.0      |Unaccompanied  |State servant       |Higher education             |Married             |House / apartment|0.0031219999999999998     |-18850    |-449         |-4597.0          |-2379          |8.0        |1         |1             |1              |1               |0         |0         |Managers       |2.0            |3                   |3                          |MONDAY                    |16                     |0                         |0                         |0                          |0                     |1                     |1                      |Other                 |null               |0.7142792864482229 |0.5406544504453575 |null          |null            |null                       |null              |null          |null         |null         |null         |null         |null        |null                |null          |null                   |null             |null           |null             |null                        |null            |null           |null          |null          |null          |null          |null         |null                 |null           |null                    |null              |null           |null             |null                        |null              |null           |null          |null          |null          |null          |null         |null                 |null           |null                    |null              |null              |null          |null          |null              |null               |2.0                     |0.0                     |2.0                     |0.0                     |-1070.0               |0              |1              |0              |0              |0              |0              |0              |0              |0               |0               |0               |0               |0               |0               |0               |0               |0               |0               |0               |0               |0.0                       |0.0                      |0.0                       |0.0                      |0.0                      |0.0                       |\n",
      "|100011    |0     |Cash loans        |F          |N           |Y              |0           |112500.0        |1019610.0 |33826.5    |913500.0       |Children       |Pensioner           |Secondary / secondary special|Married             |House / apartment|0.018634                  |-20099    |365243       |-7427.0          |-3514          |null       |1         |0             |0              |1               |0         |0         |null           |2.0            |2                   |2                          |WEDNESDAY                 |14                     |0                         |0                         |0                          |0                     |0                     |0                      |XNA                   |0.5873340468730377 |0.20574728800732814|0.7517237147741489 |null          |null            |null                       |null              |null          |null         |null         |null         |null         |null        |null                |null          |null                   |null             |null           |null             |null                        |null            |null           |null          |null          |null          |null          |null         |null                 |null           |null                    |null              |null           |null             |null                        |null              |null           |null          |null          |null          |null          |null         |null                 |null           |null                    |null              |null              |null          |null          |null              |null               |1.0                     |0.0                     |1.0                     |0.0                     |0.0                   |0              |1              |0              |0              |0              |0              |0              |0              |0               |0               |0               |0               |0               |0               |0               |0               |0               |0               |0               |0               |0.0                       |0.0                      |0.0                       |0.0                      |0.0                      |1.0                       |\n",
      "|100012    |0     |Revolving loans   |M          |N           |Y              |0           |135000.0        |405000.0  |20250.0    |405000.0       |Unaccompanied  |Working             |Secondary / secondary special|Single / not married|House / apartment|0.019688999999999998      |-14469    |-2019        |-14437.0         |-3992          |null       |1         |1             |0              |1               |0         |0         |Laborers       |1.0            |2                   |2                          |THURSDAY                  |8                      |0                         |0                         |0                          |0                     |0                     |0                      |Electricity           |null               |0.7466436294590924 |null               |null          |null            |null                       |null              |null          |null         |null         |null         |null         |null        |null                |null          |null                   |null             |null           |null             |null                        |null            |null           |null          |null          |null          |null          |null         |null                 |null           |null                    |null              |null           |null             |null                        |null              |null           |null          |null          |null          |null          |null         |null                 |null           |null                    |null              |null              |null          |null          |null              |null               |2.0                     |0.0                     |2.0                     |0.0                     |-1673.0               |0              |0              |0              |0              |0              |0              |0              |0              |0               |0               |0               |0               |0               |0               |0               |0               |0               |0               |0               |0               |null                      |null                     |null                      |null                     |null                     |null                      |\n",
      "|100014    |0     |Cash loans        |F          |N           |Y              |1           |112500.0        |652500.0  |21177.0    |652500.0       |Unaccompanied  |Working             |Higher education             |Married             |House / apartment|0.0228                    |-10197    |-679         |-4427.0          |-738           |null       |1         |1             |0              |1               |0         |0         |Core staff     |3.0            |2                   |2                          |SATURDAY                  |15                     |0                         |0                         |0                          |0                     |0                     |0                      |Medicine              |0.3197601716755032 |0.6518623334244781 |0.363945238612397  |null          |null            |null                       |null              |null          |null         |null         |null         |null         |null        |null                |null          |null                   |null             |null           |null             |null                        |null            |null           |null          |null          |null          |null          |null         |null                 |null           |null                    |null              |null           |null             |null                        |null              |null           |null          |null          |null          |null          |null         |null                 |null           |null                    |null              |null              |null          |null          |null              |null               |0.0                     |0.0                     |0.0                     |0.0                     |-844.0                |0              |1              |0              |0              |0              |0              |0              |0              |0               |0               |0               |0               |0               |0               |0               |0               |0               |0               |0               |0               |0.0                       |0.0                      |0.0                       |1.0                      |0.0                      |0.0                       |\n",
      "|100015    |0     |Cash loans        |F          |N           |Y              |0           |38419.155       |148365.0  |10678.5    |135000.0       |Children       |Pensioner           |Secondary / secondary special|Married             |House / apartment|0.015221                  |-20417    |365243       |-5246.0          |-2512          |null       |1         |0             |0              |1               |1         |0         |null           |2.0            |2                   |2                          |FRIDAY                    |7                      |0                         |0                         |0                          |0                     |0                     |0                      |XNA                   |0.7220444501416448 |0.5551831615131809 |0.6528965519806539 |null          |null            |null                       |null              |null          |null         |null         |null         |null         |null        |null                |null          |null                   |null             |null           |null             |null                        |null            |null           |null          |null          |null          |null          |null         |null                 |null           |null                    |null              |null           |null             |null                        |null              |null           |null          |null          |null          |null          |null         |null                 |null           |null                    |null              |null              |null          |null          |null              |null               |0.0                     |0.0                     |0.0                     |0.0                     |-2396.0               |0              |0              |0              |0              |1              |0              |0              |0              |0               |0               |0               |0               |0               |0               |0               |0               |0               |0               |0               |0               |0.0                       |0.0                      |0.0                       |0.0                      |0.0                      |2.0                       |\n",
      "|100016    |0     |Cash loans        |F          |N           |Y              |0           |67500.0         |80865.0   |5881.5     |67500.0        |Unaccompanied  |Working             |Secondary / secondary special|Married             |House / apartment|0.031329                  |-13439    |-2717        |-311.0           |-3227          |null       |1         |1             |1              |1               |1         |0         |Laborers       |2.0            |2                   |2                          |FRIDAY                    |10                     |0                         |0                         |0                          |0                     |0                     |0                      |Business Entity Type 2|0.4648311169632833 |0.7150418188660659 |0.1766525794312139 |0.0825        |null            |0.9811                     |null              |null          |0.0          |0.2069       |0.1667       |null         |0.0135      |null                |0.0778        |null                   |0.0              |0.084          |null             |0.9811                      |null            |null           |0.0           |0.2069        |0.1667        |null          |0.0138       |null                 |0.081          |null                    |0.0               |0.0833         |null             |0.9811                      |null              |null           |0.0           |0.2069        |0.1667        |null          |0.0137       |null                 |0.0792         |null                    |0.0               |reg oper account  |block of flats|0.0612        |null              |No                 |0.0                     |0.0                     |0.0                     |0.0                     |-2370.0               |0              |1              |0              |0              |0              |0              |0              |0              |0               |0               |0               |0               |0               |0               |0               |0               |0               |0               |0               |0               |0.0                       |0.0                      |0.0                       |1.0                      |0.0                      |0.0                       |\n",
      "|100017    |0     |Cash loans        |M          |Y           |N              |1           |225000.0        |918468.0  |28966.5    |697500.0       |Unaccompanied  |Working             |Secondary / secondary special|Married             |House / apartment|0.016612000000000002      |-14086    |-3028        |-643.0           |-4911          |23.0       |1         |1             |0              |1               |0         |0         |Drivers        |3.0            |2                   |2                          |THURSDAY                  |13                     |0                         |0                         |0                          |0                     |0                     |0                      |Self-employed         |null               |0.5669066132460429 |0.7700870700124128 |0.1474        |0.0973          |0.9806                     |0.7348            |0.0582        |0.16         |0.1379       |0.3333       |0.375        |0.0931      |0.1202              |0.1397        |0.0                    |0.0              |0.1502         |0.101            |0.9806                      |0.7452          |0.0587         |0.1611        |0.1379        |0.3333        |0.375         |0.0952       |0.1313               |0.1456         |0.0                     |0.0               |0.1489         |0.0973           |0.9806                      |0.7383            |0.0585         |0.16          |0.1379        |0.3333        |0.375         |0.0947       |0.1223               |0.1422         |0.0                     |0.0               |reg oper account  |block of flats|0.1417        |Panel             |No                 |0.0                     |0.0                     |0.0                     |0.0                     |-4.0                  |0              |1              |0              |0              |0              |0              |0              |0              |0               |0               |0               |0               |0               |0               |0               |0               |0               |0               |0               |0               |0.0                       |0.0                      |0.0                       |0.0                      |0.0                      |1.0                       |\n",
      "|100018    |0     |Cash loans        |F          |N           |Y              |0           |189000.0        |773680.5  |32778.0    |679500.0       |Unaccompanied  |Working             |Secondary / secondary special|Married             |House / apartment|0.010006000000000001      |-14583    |-203         |-615.0           |-2056          |null       |1         |1             |0              |1               |0         |0         |Laborers       |2.0            |2                   |1                          |MONDAY                    |9                      |0                         |0                         |0                          |0                     |0                     |0                      |Transport: type 2     |0.7219397686622343 |0.6426562048311103 |null               |0.3495        |0.1335          |0.9985                     |0.9796            |0.1143        |0.4          |0.1724       |0.6667       |0.7083       |0.1758      |0.2849              |0.3774        |0.0193                 |0.1001           |0.3561         |0.1386           |0.9985                      |0.9804          |0.1153         |0.4028        |0.1724        |0.6667        |0.7083        |0.1798       |0.3113               |0.3932         |0.0195                  |0.106             |0.3529         |0.1335           |0.9985                      |0.9799            |0.115          |0.4           |0.1724        |0.6667        |0.7083        |0.1789       |0.2899               |0.3842         |0.0194                  |0.1022            |reg oper account  |block of flats|0.3811        |Panel             |No                 |0.0                     |0.0                     |0.0                     |0.0                     |-188.0                |0              |1              |0              |0              |0              |0              |0              |0              |0               |0               |0               |0               |0               |0               |0               |0               |0               |0               |0               |0               |null                      |null                     |null                      |null                     |null                     |null                      |\n",
      "|100019    |0     |Cash loans        |M          |Y           |Y              |0           |157500.0        |299772.0  |20160.0    |247500.0       |Family         |Working             |Secondary / secondary special|Single / not married|Rented apartment |0.020713                  |-8728     |-1157        |-3494.0          |-1368          |17.0       |1         |1             |0              |1               |0         |0         |Laborers       |1.0            |3                   |3                          |SATURDAY                  |6                      |0                         |0                         |0                          |1                     |1                     |0                      |Business Entity Type 2|0.11563433726229973|0.34663398139668   |0.6785676886853644 |null          |null            |null                       |null              |null          |null         |null         |null         |null         |null        |null                |null          |null                   |null             |null           |null             |null                        |null            |null           |null          |null          |null          |null          |null         |null                 |null           |null                    |null              |null           |null             |null                        |null              |null           |null          |null          |null          |null          |null         |null                 |null           |null                    |null              |null              |null          |null          |null              |null               |0.0                     |0.0                     |0.0                     |0.0                     |-925.0                |0              |0              |0              |0              |0              |0              |1              |0              |0               |0               |0               |0               |0               |0               |0               |0               |0               |0               |0               |0               |0.0                       |0.0                      |0.0                       |0.0                      |0.0                      |1.0                       |\n",
      "|100020    |0     |Cash loans        |M          |N           |N              |0           |108000.0        |509602.5  |26149.5    |387000.0       |Unaccompanied  |Working             |Secondary / secondary special|Married             |House / apartment|0.018634                  |-12931    |-1317        |-6392.0          |-3866          |null       |1         |1             |0              |1               |0         |0         |Drivers        |2.0            |2                   |2                          |THURSDAY                  |12                     |0                         |0                         |0                          |1                     |1                     |0                      |Government            |null               |0.2363778398884225 |0.06210303783729682|null          |null            |null                       |null              |null          |null         |null         |null         |null         |null        |null                |null          |null                   |null             |null           |null             |null                        |null            |null           |null          |null          |null          |null          |null         |null                 |null           |null                    |null              |null           |null             |null                        |null              |null           |null          |null          |null          |null          |null         |null                 |null           |null                    |null              |null              |null          |null          |null              |null               |0.0                     |0.0                     |0.0                     |0.0                     |-3.0                  |0              |1              |0              |0              |0              |0              |0              |0              |0               |0               |0               |0               |0               |0               |0               |0               |0               |0               |0               |0               |0.0                       |0.0                      |0.0                       |0.0                      |1.0                      |0.0                       |\n",
      "|100021    |0     |Revolving loans   |F          |N           |Y              |1           |81000.0         |270000.0  |13500.0    |270000.0       |Unaccompanied  |Working             |Secondary / secondary special|Married             |House / apartment|0.010966                  |-9776     |-191         |-4143.0          |-2427          |null       |1         |1             |0              |1               |0         |0         |Laborers       |3.0            |2                   |2                          |MONDAY                    |10                     |0                         |0                         |0                          |1                     |1                     |0                      |Construction          |null               |0.6835133461914255 |null               |null          |null            |null                       |null              |null          |null         |null         |null         |null         |null        |null                |null          |null                   |null             |null           |null             |null                        |null            |null           |null          |null          |null          |null          |null         |null                 |null           |null                    |null              |null           |null             |null                        |null              |null           |null          |null          |null          |null          |null         |null                 |null           |null                    |null              |null              |null          |null          |null              |null               |4.0                     |0.0                     |4.0                     |0.0                     |-2811.0               |0              |0              |0              |0              |0              |0              |0              |0              |0               |0               |0               |0               |0               |0               |0               |0               |0               |0               |0               |0               |null                      |null                     |null                      |null                     |null                     |null                      |\n",
      "|100022    |0     |Revolving loans   |F          |N           |Y              |0           |112500.0        |157500.0  |7875.0     |157500.0       |Other_A        |Working             |Secondary / secondary special|Widow               |House / apartment|0.04622                   |-17718    |-7804        |-8751.0          |-1259          |null       |1         |1             |0              |1               |1         |0         |Laborers       |1.0            |1                   |1                          |FRIDAY                    |13                     |0                         |0                         |0                          |0                     |0                     |0                      |Housing               |null               |0.7064284028871654 |0.5567274263630174 |0.0278        |0.0617          |0.9881                     |0.8368            |0.0018        |0.0          |0.1034       |0.0833       |0.125        |0.0279      |0.0227              |0.029         |0.0                    |0.0              |0.0284         |0.064            |0.9881                      |0.8432          |0.0018         |0.0           |0.1034        |0.0833        |0.125         |0.0286       |0.0248               |0.0302         |0.0                     |0.0               |0.0281         |0.0617           |0.9881                      |0.8390000000000001|0.0018         |0.0           |0.1034        |0.0833        |0.125         |0.0284       |0.0231               |0.0295         |0.0                     |0.0               |reg oper account  |block of flats|0.0238        |Stone, brick      |No                 |8.0                     |0.0                     |8.0                     |0.0                     |-239.0                |0              |1              |0              |0              |0              |0              |0              |0              |0               |0               |0               |0               |0               |0               |0               |0               |0               |0               |0               |0               |0.0                       |0.0                      |0.0                       |0.0                      |0.0                      |0.0                       |\n",
      "|100023    |0     |Cash loans        |F          |N           |Y              |1           |90000.0         |544491.0  |17563.5    |454500.0       |Unaccompanied  |State servant       |Higher education             |Single / not married|House / apartment|0.015221                  |-11348    |-2038        |-1021.0          |-3964          |null       |1         |1             |1              |1               |1         |0         |Core staff     |2.0            |2                   |2                          |MONDAY                    |12                     |0                         |0                         |0                          |0                     |0                     |0                      |Kindergarten          |null               |0.5866171400119664 |0.4776491548517548 |null          |null            |null                       |null              |null          |null         |null         |null         |null         |null        |null                |null          |null                   |null             |null           |null             |null                        |null            |null           |null          |null          |null          |null          |null         |null                 |null           |null                    |null              |null           |null             |null                        |null              |null           |null          |null          |null          |null          |null         |null                 |null           |null                    |null              |null              |null          |null          |null              |null               |0.0                     |0.0                     |0.0                     |0.0                     |-1850.0               |0              |1              |0              |0              |0              |0              |0              |0              |0               |0               |0               |0               |0               |0               |0               |0               |0               |0               |0               |0               |0.0                       |0.0                      |0.0                       |0.0                      |0.0                      |2.0                       |\n",
      "+----------+------+------------------+-----------+------------+---------------+------------+----------------+----------+-----------+---------------+---------------+--------------------+-----------------------------+--------------------+-----------------+--------------------------+----------+-------------+-----------------+---------------+-----------+----------+--------------+---------------+----------------+----------+----------+---------------+---------------+--------------------+---------------------------+--------------------------+-----------------------+--------------------------+--------------------------+---------------------------+----------------------+----------------------+-----------------------+----------------------+-------------------+-------------------+-------------------+--------------+----------------+---------------------------+------------------+--------------+-------------+-------------+-------------+-------------+------------+--------------------+--------------+-----------------------+-----------------+---------------+-----------------+----------------------------+----------------+---------------+--------------+--------------+--------------+--------------+-------------+---------------------+---------------+------------------------+------------------+---------------+-----------------+----------------------------+------------------+---------------+--------------+--------------+--------------+--------------+-------------+---------------------+---------------+------------------------+------------------+------------------+--------------+--------------+------------------+-------------------+------------------------+------------------------+------------------------+------------------------+----------------------+---------------+---------------+---------------+---------------+---------------+---------------+---------------+---------------+----------------+----------------+----------------+----------------+----------------+----------------+----------------+----------------+----------------+----------------+----------------+----------------+--------------------------+-------------------------+--------------------------+-------------------------+-------------------------+--------------------------+\n",
      "only showing top 20 rows\n",
      "\n"
     ]
    }
   ],
   "source": [
    "df.show(truncate=False)"
   ]
  },
  {
   "cell_type": "code",
   "execution_count": 10,
   "metadata": {},
   "outputs": [
    {
     "name": "stdout",
     "output_type": "stream",
     "text": [
      "Columns overview\n"
     ]
    },
    {
     "data": {
      "text/html": [
       "<div>\n",
       "<style scoped>\n",
       "    .dataframe tbody tr th:only-of-type {\n",
       "        vertical-align: middle;\n",
       "    }\n",
       "\n",
       "    .dataframe tbody tr th {\n",
       "        vertical-align: top;\n",
       "    }\n",
       "\n",
       "    .dataframe thead th {\n",
       "        text-align: right;\n",
       "    }\n",
       "</style>\n",
       "<table border=\"1\" class=\"dataframe\">\n",
       "  <thead>\n",
       "    <tr style=\"text-align: right;\">\n",
       "      <th></th>\n",
       "      <th>Column Name</th>\n",
       "      <th>Data type</th>\n",
       "    </tr>\n",
       "  </thead>\n",
       "  <tbody>\n",
       "    <tr>\n",
       "      <th>0</th>\n",
       "      <td>SK_ID_CURR</td>\n",
       "      <td>int</td>\n",
       "    </tr>\n",
       "    <tr>\n",
       "      <th>1</th>\n",
       "      <td>TARGET</td>\n",
       "      <td>int</td>\n",
       "    </tr>\n",
       "    <tr>\n",
       "      <th>2</th>\n",
       "      <td>NAME_CONTRACT_TYPE</td>\n",
       "      <td>string</td>\n",
       "    </tr>\n",
       "    <tr>\n",
       "      <th>3</th>\n",
       "      <td>CODE_GENDER</td>\n",
       "      <td>string</td>\n",
       "    </tr>\n",
       "    <tr>\n",
       "      <th>4</th>\n",
       "      <td>FLAG_OWN_CAR</td>\n",
       "      <td>string</td>\n",
       "    </tr>\n",
       "    <tr>\n",
       "      <th>...</th>\n",
       "      <td>...</td>\n",
       "      <td>...</td>\n",
       "    </tr>\n",
       "    <tr>\n",
       "      <th>117</th>\n",
       "      <td>AMT_REQ_CREDIT_BUREAU_DAY</td>\n",
       "      <td>double</td>\n",
       "    </tr>\n",
       "    <tr>\n",
       "      <th>118</th>\n",
       "      <td>AMT_REQ_CREDIT_BUREAU_WEEK</td>\n",
       "      <td>double</td>\n",
       "    </tr>\n",
       "    <tr>\n",
       "      <th>119</th>\n",
       "      <td>AMT_REQ_CREDIT_BUREAU_MON</td>\n",
       "      <td>double</td>\n",
       "    </tr>\n",
       "    <tr>\n",
       "      <th>120</th>\n",
       "      <td>AMT_REQ_CREDIT_BUREAU_QRT</td>\n",
       "      <td>double</td>\n",
       "    </tr>\n",
       "    <tr>\n",
       "      <th>121</th>\n",
       "      <td>AMT_REQ_CREDIT_BUREAU_YEAR</td>\n",
       "      <td>double</td>\n",
       "    </tr>\n",
       "  </tbody>\n",
       "</table>\n",
       "<p>122 rows × 2 columns</p>\n",
       "</div>"
      ],
      "text/plain": [
       "                    Column Name Data type\n",
       "0                    SK_ID_CURR       int\n",
       "1                        TARGET       int\n",
       "2            NAME_CONTRACT_TYPE    string\n",
       "3                   CODE_GENDER    string\n",
       "4                  FLAG_OWN_CAR    string\n",
       "..                          ...       ...\n",
       "117   AMT_REQ_CREDIT_BUREAU_DAY    double\n",
       "118  AMT_REQ_CREDIT_BUREAU_WEEK    double\n",
       "119   AMT_REQ_CREDIT_BUREAU_MON    double\n",
       "120   AMT_REQ_CREDIT_BUREAU_QRT    double\n",
       "121  AMT_REQ_CREDIT_BUREAU_YEAR    double\n",
       "\n",
       "[122 rows x 2 columns]"
      ]
     },
     "execution_count": 10,
     "metadata": {},
     "output_type": "execute_result"
    }
   ],
   "source": [
    "print('Columns overview')\n",
    "col_types=pd.DataFrame(df.dtypes, columns = ['Column Name','Data type'])\n",
    "col_types"
   ]
  },
  {
   "cell_type": "code",
   "execution_count": 11,
   "metadata": {},
   "outputs": [
    {
     "data": {
      "text/plain": [
       "double    65\n",
       "int       41\n",
       "string    16\n",
       "Name: Data type, dtype: int64"
      ]
     },
     "execution_count": 11,
     "metadata": {},
     "output_type": "execute_result"
    }
   ],
   "source": [
    "col_types[\"Data type\"].value_counts()"
   ]
  },
  {
   "cell_type": "code",
   "execution_count": 12,
   "metadata": {},
   "outputs": [],
   "source": [
    "string_columns =list(col_types.loc[col_types['Data type'] == 'string', 'Column Name'].values)\n",
    "numeric_columns = list(col_types.loc[col_types['Data type'] == 'int', 'Column Name'].values)\n",
    "double_columns = list(col_types.loc[col_types['Data type'] == 'double', 'Column Name'].values)"
   ]
  },
  {
   "cell_type": "code",
   "execution_count": 13,
   "metadata": {},
   "outputs": [
    {
     "data": {
      "text/html": [
       "<div>\n",
       "<style scoped>\n",
       "    .dataframe tbody tr th:only-of-type {\n",
       "        vertical-align: middle;\n",
       "    }\n",
       "\n",
       "    .dataframe tbody tr th {\n",
       "        vertical-align: top;\n",
       "    }\n",
       "\n",
       "    .dataframe thead th {\n",
       "        text-align: right;\n",
       "    }\n",
       "</style>\n",
       "<table border=\"1\" class=\"dataframe\">\n",
       "  <thead>\n",
       "    <tr style=\"text-align: right;\">\n",
       "      <th></th>\n",
       "      <th>SK_ID_CURR</th>\n",
       "      <th>TARGET</th>\n",
       "      <th>NAME_CONTRACT_TYPE</th>\n",
       "      <th>CODE_GENDER</th>\n",
       "      <th>FLAG_OWN_CAR</th>\n",
       "      <th>FLAG_OWN_REALTY</th>\n",
       "      <th>CNT_CHILDREN</th>\n",
       "      <th>AMT_INCOME_TOTAL</th>\n",
       "      <th>AMT_CREDIT</th>\n",
       "      <th>AMT_ANNUITY</th>\n",
       "      <th>...</th>\n",
       "      <th>FLAG_DOCUMENT_18</th>\n",
       "      <th>FLAG_DOCUMENT_19</th>\n",
       "      <th>FLAG_DOCUMENT_20</th>\n",
       "      <th>FLAG_DOCUMENT_21</th>\n",
       "      <th>AMT_REQ_CREDIT_BUREAU_HOUR</th>\n",
       "      <th>AMT_REQ_CREDIT_BUREAU_DAY</th>\n",
       "      <th>AMT_REQ_CREDIT_BUREAU_WEEK</th>\n",
       "      <th>AMT_REQ_CREDIT_BUREAU_MON</th>\n",
       "      <th>AMT_REQ_CREDIT_BUREAU_QRT</th>\n",
       "      <th>AMT_REQ_CREDIT_BUREAU_YEAR</th>\n",
       "    </tr>\n",
       "  </thead>\n",
       "  <tbody>\n",
       "    <tr>\n",
       "      <th>0</th>\n",
       "      <td>0</td>\n",
       "      <td>282686</td>\n",
       "      <td>0</td>\n",
       "      <td>0</td>\n",
       "      <td>0</td>\n",
       "      <td>0</td>\n",
       "      <td>215371</td>\n",
       "      <td>0</td>\n",
       "      <td>0</td>\n",
       "      <td>0</td>\n",
       "      <td>...</td>\n",
       "      <td>305011</td>\n",
       "      <td>307328</td>\n",
       "      <td>307355</td>\n",
       "      <td>307408</td>\n",
       "      <td>264366</td>\n",
       "      <td>264503</td>\n",
       "      <td>257456</td>\n",
       "      <td>222233</td>\n",
       "      <td>215417</td>\n",
       "      <td>71801</td>\n",
       "    </tr>\n",
       "  </tbody>\n",
       "</table>\n",
       "<p>1 rows × 122 columns</p>\n",
       "</div>"
      ],
      "text/plain": [
       "   SK_ID_CURR  TARGET  NAME_CONTRACT_TYPE  CODE_GENDER  FLAG_OWN_CAR  \\\n",
       "0           0  282686                   0            0             0   \n",
       "\n",
       "   FLAG_OWN_REALTY  CNT_CHILDREN  AMT_INCOME_TOTAL  AMT_CREDIT  AMT_ANNUITY  \\\n",
       "0                0        215371                 0           0            0   \n",
       "\n",
       "   ...  FLAG_DOCUMENT_18  FLAG_DOCUMENT_19  FLAG_DOCUMENT_20  \\\n",
       "0  ...            305011            307328            307355   \n",
       "\n",
       "   FLAG_DOCUMENT_21  AMT_REQ_CREDIT_BUREAU_HOUR  AMT_REQ_CREDIT_BUREAU_DAY  \\\n",
       "0            307408                      264366                     264503   \n",
       "\n",
       "   AMT_REQ_CREDIT_BUREAU_WEEK  AMT_REQ_CREDIT_BUREAU_MON  \\\n",
       "0                      257456                     222233   \n",
       "\n",
       "   AMT_REQ_CREDIT_BUREAU_QRT  AMT_REQ_CREDIT_BUREAU_YEAR  \n",
       "0                     215417                       71801  \n",
       "\n",
       "[1 rows x 122 columns]"
      ]
     },
     "execution_count": 13,
     "metadata": {},
     "output_type": "execute_result"
    }
   ],
   "source": [
    "missing_values = {} \n",
    "for index, column in enumerate(df.columns):\n",
    "    if column in string_columns:    # check string columns with None and Null values\n",
    "#         missing_count = df.filter(col(column).eqNullSafe(None) | col(column).isNull()).count()\n",
    "#         missing_values.update({column: missing_count})\n",
    "        missing_count = df.filter(col(column).eqNullSafe(None) | col(column).isNull()).count()\n",
    "        missing_values.update({column:missing_count})\n",
    "    if column in numeric_columns:  # check zeroes, None, NaN\n",
    "        missing_count = df.where(col(column).isin([0,None,np.nan])).count()\n",
    "        missing_values.update({column:missing_count})\n",
    "    if column in double_columns:  # check zeros and NaN\n",
    "        missing_count = df.where(col(column).isin([0,None,np.nan])).count()\n",
    "        missing_values.update({column:missing_count})\n",
    "missing_df = pd.DataFrame.from_dict([missing_values])\n",
    "missing_df"
   ]
  },
  {
   "cell_type": "code",
   "execution_count": 14,
   "metadata": {},
   "outputs": [
    {
     "data": {
      "text/plain": [
       "['TARGET',\n",
       " 'CNT_CHILDREN',\n",
       " 'NAME_TYPE_SUITE',\n",
       " 'OWN_CAR_AGE',\n",
       " 'FLAG_EMP_PHONE',\n",
       " 'FLAG_WORK_PHONE',\n",
       " 'FLAG_CONT_MOBILE',\n",
       " 'FLAG_PHONE',\n",
       " 'FLAG_EMAIL',\n",
       " 'OCCUPATION_TYPE',\n",
       " 'REG_REGION_NOT_LIVE_REGION',\n",
       " 'REG_REGION_NOT_WORK_REGION',\n",
       " 'LIVE_REGION_NOT_WORK_REGION',\n",
       " 'REG_CITY_NOT_LIVE_CITY',\n",
       " 'REG_CITY_NOT_WORK_CITY',\n",
       " 'LIVE_CITY_NOT_WORK_CITY',\n",
       " 'APARTMENTS_AVG',\n",
       " 'BASEMENTAREA_AVG',\n",
       " 'YEARS_BEGINEXPLUATATION_AVG',\n",
       " 'COMMONAREA_AVG',\n",
       " 'ELEVATORS_AVG',\n",
       " 'FLOORSMAX_AVG',\n",
       " 'FLOORSMIN_AVG',\n",
       " 'LANDAREA_AVG',\n",
       " 'NONLIVINGAPARTMENTS_AVG',\n",
       " 'NONLIVINGAREA_AVG',\n",
       " 'APARTMENTS_MODE',\n",
       " 'BASEMENTAREA_MODE',\n",
       " 'COMMONAREA_MODE',\n",
       " 'ELEVATORS_MODE',\n",
       " 'FLOORSMAX_MODE',\n",
       " 'FLOORSMIN_MODE',\n",
       " 'LANDAREA_MODE',\n",
       " 'LIVINGAPARTMENTS_MODE',\n",
       " 'NONLIVINGAPARTMENTS_MODE',\n",
       " 'NONLIVINGAREA_MODE',\n",
       " 'APARTMENTS_MEDI',\n",
       " 'BASEMENTAREA_MEDI',\n",
       " 'YEARS_BEGINEXPLUATATION_MEDI',\n",
       " 'COMMONAREA_MEDI',\n",
       " 'ELEVATORS_MEDI',\n",
       " 'FLOORSMAX_MEDI',\n",
       " 'FLOORSMIN_MEDI',\n",
       " 'LANDAREA_MEDI',\n",
       " 'NONLIVINGAPARTMENTS_MEDI',\n",
       " 'NONLIVINGAREA_MEDI',\n",
       " 'FONDKAPREMONT_MODE',\n",
       " 'HOUSETYPE_MODE',\n",
       " 'TOTALAREA_MODE',\n",
       " 'WALLSMATERIAL_MODE',\n",
       " 'EMERGENCYSTATE_MODE',\n",
       " 'OBS_30_CNT_SOCIAL_CIRCLE',\n",
       " 'DEF_30_CNT_SOCIAL_CIRCLE',\n",
       " 'OBS_60_CNT_SOCIAL_CIRCLE',\n",
       " 'DEF_60_CNT_SOCIAL_CIRCLE',\n",
       " 'DAYS_LAST_PHONE_CHANGE',\n",
       " 'FLAG_DOCUMENT_2',\n",
       " 'FLAG_DOCUMENT_3',\n",
       " 'FLAG_DOCUMENT_4',\n",
       " 'FLAG_DOCUMENT_5',\n",
       " 'FLAG_DOCUMENT_6',\n",
       " 'FLAG_DOCUMENT_7',\n",
       " 'FLAG_DOCUMENT_8',\n",
       " 'FLAG_DOCUMENT_9',\n",
       " 'FLAG_DOCUMENT_10',\n",
       " 'FLAG_DOCUMENT_11',\n",
       " 'FLAG_DOCUMENT_12',\n",
       " 'FLAG_DOCUMENT_13',\n",
       " 'FLAG_DOCUMENT_14',\n",
       " 'FLAG_DOCUMENT_15',\n",
       " 'FLAG_DOCUMENT_16',\n",
       " 'FLAG_DOCUMENT_17',\n",
       " 'FLAG_DOCUMENT_18',\n",
       " 'FLAG_DOCUMENT_19',\n",
       " 'FLAG_DOCUMENT_20',\n",
       " 'FLAG_DOCUMENT_21',\n",
       " 'AMT_REQ_CREDIT_BUREAU_HOUR',\n",
       " 'AMT_REQ_CREDIT_BUREAU_DAY',\n",
       " 'AMT_REQ_CREDIT_BUREAU_WEEK',\n",
       " 'AMT_REQ_CREDIT_BUREAU_MON',\n",
       " 'AMT_REQ_CREDIT_BUREAU_QRT',\n",
       " 'AMT_REQ_CREDIT_BUREAU_YEAR']"
      ]
     },
     "execution_count": 14,
     "metadata": {},
     "output_type": "execute_result"
    }
   ],
   "source": [
    "drop_list =[]\n",
    "\n",
    "for (columnName, columnData) in missing_df.iteritems():\n",
    "    #print('Column Name : ', columnName)\n",
    "    if columnData.values > 500:\n",
    "        drop_list.append(columnName)\n",
    "drop_list"
   ]
  },
  {
   "cell_type": "code",
   "execution_count": 15,
   "metadata": {},
   "outputs": [],
   "source": [
    "data = df.select([column for column in df.columns if column not in drop_list])\n",
    "data = data.dropna()\n",
    "len(data.columns)\n",
    "df = data"
   ]
  },
  {
   "cell_type": "code",
   "execution_count": 16,
   "metadata": {},
   "outputs": [],
   "source": [
    "ranked_NAME_INCOME_TYPE_df = data.select(data.NAME_INCOME_TYPE, data\n",
    "                                         \n",
    "                                         .AMT_CREDIT) \\\n",
    "    .distinct() \\\n",
    "    .groupBy(df.NAME_INCOME_TYPE) \\\n",
    "    .count() \\\n",
    "    .orderBy(\"count\", ascending=False)\n",
    "\n",
    "# Top 5 workout types\n",
    "highest_NAME_INCOME_TYPE_df = ranked_NAME_INCOME_TYPE_df.limit(5).toPandas()\n",
    "# Rename column name : 'count' --> Users count\n",
    "highest_NAME_INCOME_TYPE_df.rename(columns = {'count':'Credit'}, inplace = True)\n",
    "# Caculate the total users, we will this result to compute percentage later\n",
    "total_customers = ranked_NAME_INCOME_TYPE_df.groupBy().sum().collect()[0][0]"
   ]
  },
  {
   "cell_type": "code",
   "execution_count": 17,
   "metadata": {},
   "outputs": [
    {
     "data": {
      "text/plain": [
       "[Row(NAME_INCOME_TYPE='Working', count=2434),\n",
       " Row(NAME_INCOME_TYPE='Commercial associate', count=1989),\n",
       " Row(NAME_INCOME_TYPE='Pensioner', count=1111),\n",
       " Row(NAME_INCOME_TYPE='State servant', count=950),\n",
       " Row(NAME_INCOME_TYPE='Student', count=2)]"
      ]
     },
     "execution_count": 17,
     "metadata": {},
     "output_type": "execute_result"
    }
   ],
   "source": [
    "ranked_NAME_INCOME_TYPE_df.collect()[:5]"
   ]
  },
  {
   "cell_type": "code",
   "execution_count": 18,
   "metadata": {},
   "outputs": [
    {
     "name": "stdout",
     "output_type": "stream",
     "text": [
      "Top 5 income types that have the most count of credits:\n"
     ]
    },
    {
     "data": {
      "image/png": "[encoded data removed]",
      "text/plain": [
       "<Figure size 822.857x288 with 2 Axes>"
      ]
     },
     "metadata": {
      "needs_background": "light"
     },
     "output_type": "display_data"
    }
   ],
   "source": [
    "highest_NAME_INCOME_TYPE_df_renamed = highest_NAME_INCOME_TYPE_df\n",
    "# Compute the percentage of top 5 imcome type / total customers\n",
    "highest_NAME_INCOME_TYPE_df_renamed['percentage'] = highest_NAME_INCOME_TYPE_df['Credit'] \\\n",
    "    / total_customers * 100\n",
    "\n",
    "# We assign the rest of users belong to another specific group that we call 'others'\n",
    "others = {\n",
    "      'NAME_INCOME_TYPE': 'others'\n",
    "    , 'Credit': total_customers - sum(highest_NAME_INCOME_TYPE_df_renamed['Credit'])\n",
    "    , 'percentage': 100 - sum(highest_NAME_INCOME_TYPE_df_renamed['percentage'])\n",
    "}\n",
    "\n",
    "highest_NAME_INCOME_TYPE_df_renamed = highest_NAME_INCOME_TYPE_df_renamed.append(\n",
    "    others, ignore_index=True\n",
    ")\n",
    "print('Top 5 income types that have the most count of credits:')\n",
    "highest_NAME_INCOME_TYPE_df_renamed\n",
    "\n",
    "fig, axs = plt.subplots(nrows=1, ncols=2, figsize=plt.figaspect(0.35))\n",
    "\n",
    "plot0 =   axs[0].bar(x=highest_NAME_INCOME_TYPE_df_renamed['NAME_INCOME_TYPE']\n",
    "                     , height=highest_NAME_INCOME_TYPE_df_renamed['Credit'])\n",
    "title0 =  axs[0].set_title('Credit', fontsize = 'small')\n",
    "xlabel0 = axs[0].set_xlabel('NAME_INCOME_TYPE', fontsize = 'small')\n",
    "ylabel0 = axs[0].set_ylabel('Credit', fontsize = 'small')\n",
    "xsticks_label = axs[0].set_xticklabels(highest_NAME_INCOME_TYPE_df_renamed['NAME_INCOME_TYPE'] \n",
    "                                       ,rotation = 'vertical', fontsize='small')\n",
    "explode = (0.1, 0.1, 0.3, 0.3, 0.3, 0.1)\n",
    "title1 = axs[1].set_title('customers', fontsize = 'small')\n",
    "plot1 = axs[1].pie(\n",
    "      x=highest_NAME_INCOME_TYPE_df_renamed['percentage']\n",
    "    , labels=highest_NAME_INCOME_TYPE_df_renamed['NAME_INCOME_TYPE']\n",
    "    , autopct='%1.1f%%', shadow=True, explode=explode, startangle=90\n",
    "    , radius=1\n",
    ")\n",
    "\n",
    "text = fig.text(0.5, 1.02, 'Top 5 income types having the most customers', ha='center', va='top', transform=fig.transFigure)"
   ]
  },
  {
   "cell_type": "code",
   "execution_count": 19,
   "metadata": {},
   "outputs": [
    {
     "name": "stdout",
     "output_type": "stream",
     "text": [
      "\n",
      "Plot of credit counts distribution by education type:\n"
     ]
    },
    {
     "name": "stderr",
     "output_type": "stream",
     "text": [
      "C:\\Users\\ASUS\\anaconda3\\lib\\site-packages\\pandas\\plotting\\_matplotlib\\hist.py:362: UserWarning: To output multiple subplots, the figure containing the passed axes is being cleared\n",
      "  axes = _grouped_hist(\n"
     ]
    },
    {
     "data": {
      "image/png": "[encoded data removed]",
      "text/plain": [
       "<Figure size 1656x4752 with 52 Axes>"
      ]
     },
     "metadata": {
      "needs_background": "light"
     },
     "output_type": "display_data"
    }
   ],
   "source": [
    "print('\\nPlot of credit counts distribution by education type:')\n",
    "plot_size_x, plot_size_y = 5, 5\n",
    "figsize_x, figsize_y = plot_size_x * 4 + 3, plot_size_y * 13 + 1\n",
    "figsize=(figsize_x, figsize_y)\n",
    "fig = plt.figure(figsize=figsize) #\n",
    "grid_size = (13,4)\n",
    "ax = plt.subplot2grid(grid_size, (0,0), colspan=1, rowspan=1)\n",
    "#fig, ax = plt.subplots()\n",
    "\n",
    "PerWorkoutRecordCount_dist= data.select('AMT_CREDIT', 'NAME_EDUCATION_TYPE').toPandas().hist(\n",
    "    column='AMT_CREDIT', bins=10, sharex = False, grid=True\n",
    "    , xlabelsize='small', ylabelsize='small', by='NAME_EDUCATION_TYPE', ax = ax\n",
    "    , layout = grid_size, figsize=figsize\n",
    "    )\n",
    "a = fig.tight_layout()\n",
    "title = fig.text(0.5, 1, 'Distribution of credit count per education type', ha='center' \n",
    "         , fontsize='small', transform=fig.transFigure);\n",
    "xlabel = fig.text(\n",
    "    0.5, 0.01, '# of credit/education type', va='bottom', ha='center', transform=fig.transFigure\n",
    ")\n",
    "ylabel = fig.text(0.01, 0.5, 'Frequency (count)', va='center', rotation='vertical');"
   ]
  },
  {
   "cell_type": "code",
   "execution_count": 20,
   "metadata": {},
   "outputs": [],
   "source": [
    "df = df.select('AMT_INCOME_TOTAL','NAME_CONTRACT_TYPE','CODE_GENDER','FLAG_OWN_CAR','FLAG_OWN_REALTY','NAME_FAMILY_STATUS'\n",
    "               ,'AMT_CREDIT')"
   ]
  },
  {
   "cell_type": "code",
   "execution_count": 21,
   "metadata": {},
   "outputs": [
    {
     "data": {
      "text/plain": [
       "Row(AMT_INCOME_TOTAL=202500.0, NAME_CONTRACT_TYPE='Cash loans', CODE_GENDER='M', FLAG_OWN_CAR='N', FLAG_OWN_REALTY='Y', NAME_FAMILY_STATUS='Single / not married', AMT_CREDIT=406597.5)"
      ]
     },
     "execution_count": 21,
     "metadata": {},
     "output_type": "execute_result"
    }
   ],
   "source": [
    "df.head()"
   ]
  },
  {
   "cell_type": "code",
   "execution_count": 22,
   "metadata": {},
   "outputs": [],
   "source": [
    "df = StringIndexer(inputCol=\"NAME_CONTRACT_TYPE\", outputCol=\"type_idx\").fit(df).transform(df)\n",
    "df = StringIndexer(inputCol=\"CODE_GENDER\", outputCol=\"gender_idx\").fit(df).transform(df)\n",
    "df = StringIndexer(inputCol=\"FLAG_OWN_CAR\", outputCol=\"car_idx\").fit(df).transform(df)\n",
    "df = StringIndexer(inputCol=\"FLAG_OWN_REALTY\", outputCol=\"realty_idx\").fit(df).transform(df)\n",
    "df = StringIndexer(inputCol=\"NAME_FAMILY_STATUS\", outputCol=\"NAME_FAMILY_STATUS_idx\").fit(df).transform(df)"
   ]
  },
  {
   "cell_type": "code",
   "execution_count": 23,
   "metadata": {},
   "outputs": [],
   "source": [
    "from pyspark.ml.feature import Bucketizer\n",
    "bucketizer = Bucketizer(splits=[0,1000000, 2000000, 3000000, 4500000], inputCol=\"AMT_CREDIT\", outputCol=\"AMT_CREDIT_bin\")"
   ]
  },
  {
   "cell_type": "code",
   "execution_count": 24,
   "metadata": {},
   "outputs": [],
   "source": [
    "df = bucketizer.transform(df)\n",
    "df = df.drop('AMT_CREDIT')"
   ]
  },
  {
   "cell_type": "code",
   "execution_count": 25,
   "metadata": {},
   "outputs": [
    {
     "data": {
      "text/plain": [
       "Row(AMT_INCOME_TOTAL=202500.0, NAME_CONTRACT_TYPE='Cash loans', CODE_GENDER='M', FLAG_OWN_CAR='N', FLAG_OWN_REALTY='Y', NAME_FAMILY_STATUS='Single / not married', type_idx=0.0, gender_idx=1.0, car_idx=0.0, realty_idx=0.0, NAME_FAMILY_STATUS_idx=1.0, AMT_CREDIT_bin=0.0)"
      ]
     },
     "execution_count": 25,
     "metadata": {},
     "output_type": "execute_result"
    }
   ],
   "source": [
    "df.head()"
   ]
  },
  {
   "cell_type": "code",
   "execution_count": 26,
   "metadata": {},
   "outputs": [],
   "source": [
    "df = df.drop('NAME_CONTRACT_TYPE','CODE_GENDER', 'FLAG_OWN_CAR', 'FLAG_OWN_REALTY', 'NAME_FAMILY_STATUS','AMT_CREDIT')"
   ]
  },
  {
   "cell_type": "code",
   "execution_count": 27,
   "metadata": {},
   "outputs": [],
   "source": [
    "assemble = VectorAssembler(inputCols=['AMT_INCOME_TOTAL','type_idx','gender_idx', 'car_idx', 'realty_idx'\n",
    "                                      ,'NAME_FAMILY_STATUS_idx'],outputCol='features')\n",
    "df = assemble.transform(df)"
   ]
  },
  {
   "cell_type": "code",
   "execution_count": 28,
   "metadata": {},
   "outputs": [],
   "source": [
    "df = df.drop('AMT_INCOME_TOTAL','type_idx','gender_idx', 'car_idx', 'realty_idx', 'NAME_FAMILY_STATUS_idx')"
   ]
  },
  {
   "cell_type": "code",
   "execution_count": 29,
   "metadata": {},
   "outputs": [
    {
     "data": {
      "text/plain": [
       "Row(AMT_CREDIT_bin=0.0, features=DenseVector([202500.0, 0.0, 1.0, 0.0, 0.0, 1.0]))"
      ]
     },
     "execution_count": 29,
     "metadata": {},
     "output_type": "execute_result"
    }
   ],
   "source": [
    "df.head()"
   ]
  },
  {
   "cell_type": "code",
   "execution_count": 30,
   "metadata": {},
   "outputs": [],
   "source": [
    "scaler = MinMaxScaler(inputCol=\"features\", outputCol=\"features1\")\n",
    "scalerModel = scaler.fit(df)\n",
    "scaledData = scalerModel.transform(df)"
   ]
  },
  {
   "cell_type": "code",
   "execution_count": 31,
   "metadata": {},
   "outputs": [
    {
     "data": {
      "text/plain": [
       "Row(AMT_CREDIT_bin=0.0, features=DenseVector([202500.0, 0.0, 1.0, 0.0, 0.0, 1.0]), features1=DenseVector([0.0392, 0.0, 0.5, 0.0, 0.0, 0.25]))"
      ]
     },
     "execution_count": 31,
     "metadata": {},
     "output_type": "execute_result"
    }
   ],
   "source": [
    "scaledData.head()"
   ]
  },
  {
   "cell_type": "code",
   "execution_count": 32,
   "metadata": {},
   "outputs": [
    {
     "data": {
      "text/plain": [
       "Row(AMT_CREDIT_bin=0.0, features1=DenseVector([0.0392, 0.0, 0.5, 0.0, 0.0, 0.25]))"
      ]
     },
     "execution_count": 32,
     "metadata": {},
     "output_type": "execute_result"
    }
   ],
   "source": [
    "scaledData = scaledData.drop('features')\n",
    "scaledData.head()"
   ]
  },
  {
   "cell_type": "code",
   "execution_count": 33,
   "metadata": {},
   "outputs": [],
   "source": [
    "scaled_train, scaled_test = scaledData.randomSplit([0.8, 0.2], seed=23)"
   ]
  },
  {
   "cell_type": "code",
   "execution_count": 34,
   "metadata": {},
   "outputs": [
    {
     "data": {
      "text/plain": [
       "[Row(AMT_CREDIT_bin=0.0, features1=SparseVector(6, {0: 0.004})),\n",
       " Row(AMT_CREDIT_bin=0.0, features1=SparseVector(6, {0: 0.006})),\n",
       " Row(AMT_CREDIT_bin=0.0, features1=SparseVector(6, {0: 0.006})),\n",
       " Row(AMT_CREDIT_bin=0.0, features1=SparseVector(6, {0: 0.007})),\n",
       " Row(AMT_CREDIT_bin=0.0, features1=SparseVector(6, {0: 0.0091})),\n",
       " Row(AMT_CREDIT_bin=0.0, features1=SparseVector(6, {0: 0.0091})),\n",
       " Row(AMT_CREDIT_bin=0.0, features1=SparseVector(6, {0: 0.0091})),\n",
       " Row(AMT_CREDIT_bin=0.0, features1=SparseVector(6, {0: 0.0091})),\n",
       " Row(AMT_CREDIT_bin=0.0, features1=SparseVector(6, {0: 0.0091})),\n",
       " Row(AMT_CREDIT_bin=0.0, features1=SparseVector(6, {0: 0.0101}))]"
      ]
     },
     "execution_count": 34,
     "metadata": {},
     "output_type": "execute_result"
    }
   ],
   "source": [
    "scaled_test.head(10)"
   ]
  },
  {
   "cell_type": "code",
   "execution_count": 35,
   "metadata": {},
   "outputs": [
    {
     "data": {
      "text/plain": [
       "Row(AMT_CREDIT_bin=0.0, features1=SparseVector(6, {0: 0.004}))"
      ]
     },
     "execution_count": 35,
     "metadata": {},
     "output_type": "execute_result"
    }
   ],
   "source": [
    "scaled_train.head()"
   ]
  },
  {
   "cell_type": "code",
   "execution_count": 36,
   "metadata": {},
   "outputs": [],
   "source": [
    "# pipeline = Pipeline(stages=[assembler, scaler])"
   ]
  },
  {
   "cell_type": "code",
   "execution_count": 37,
   "metadata": {},
   "outputs": [],
   "source": [
    "tree = DecisionTreeClassifier(labelCol='AMT_CREDIT_bin', featuresCol = 'features1')\n",
    "dtparamGrid = (ParamGridBuilder()\n",
    "             .addGrid(tree.maxDepth, [2, 5, 10, 20, 30])\n",
    "             .addGrid(tree.maxBins, [10, 20, 40, 80, 100])\n",
    "             .build())\n",
    "accuracy_eval = MulticlassClassificationEvaluator(metricName='accuracy', labelCol='AMT_CREDIT_bin')\n",
    "precision_eval = MulticlassClassificationEvaluator(metricName='weightedPrecision', labelCol='AMT_CREDIT_bin')\n",
    "recall_eval = MulticlassClassificationEvaluator(metricName='weightedRecall', labelCol='AMT_CREDIT_bin')"
   ]
  },
  {
   "cell_type": "code",
   "execution_count": 38,
   "metadata": {},
   "outputs": [],
   "source": [
    "dtcv = CrossValidator(estimator = tree,\n",
    "                      estimatorParamMaps = dtparamGrid,\n",
    "                      evaluator = accuracy_eval,\n",
    "                      numFolds = 5)"
   ]
  },
  {
   "cell_type": "code",
   "execution_count": 39,
   "metadata": {},
   "outputs": [],
   "source": [
    "dtcvModel = dtcv.fit(scaled_train)\n",
    "dtpredictions = dtcvModel.transform(scaled_test)"
   ]
  },
  {
   "cell_type": "code",
   "execution_count": 40,
   "metadata": {},
   "outputs": [
    {
     "name": "stdout",
     "output_type": "stream",
     "text": [
      "dtc accuracy:\n",
      "0.8045930153553472\n",
      "DTC precision:\n",
      "0.7418349811643836\n",
      "DTC recall:\n",
      "0.8045930153553472\n"
     ]
    }
   ],
   "source": [
    "print('dtc accuracy:')\n",
    "print(accuracy_eval.evaluate(dtpredictions))\n",
    "print('DTC precision:')\n",
    "print(precision_eval.evaluate(dtpredictions))\n",
    "print('DTC recall:')\n",
    "print(recall_eval.evaluate(dtpredictions))"
   ]
  }
 ],
 "metadata": {
  "kernelspec": {
   "display_name": "Python 3",
   "language": "python",
   "name": "python3"
  },
  "language_info": {
   "codemirror_mode": {
    "name": "ipython",
    "version": 3
   },
   "file_extension": ".py",
   "mimetype": "text/x-python",
   "name": "python",
   "nbconvert_exporter": "python",
   "pygments_lexer": "ipython3",
   "version": "3.8.3"
  }
 },
 "nbformat": 4,
 "nbformat_minor": 4
}
